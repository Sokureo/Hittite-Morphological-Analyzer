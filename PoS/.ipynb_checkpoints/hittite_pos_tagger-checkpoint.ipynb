{
 "cells": [
  {
   "cell_type": "code",
   "execution_count": 3,
   "metadata": {
    "collapsed": false
   },
   "outputs": [],
   "source": [
    "import numpy as np\n",
    "import matplotlib.pyplot as plt\n",
    "from matplotlib import style\n",
    "style.use('ggplot')\n",
    "from sklearn.neighbors import KNeighborsClassifier\n",
    "from sklearn.linear_model import LogisticRegression\n",
    "from sklearn.svm import SVC\n",
    "#from hmmlearn import hmm\n",
    "from sklearn.metrics import accuracy_score\n",
    "from sklearn.metrics import precision_score\n",
    "from sklearn.metrics import recall_score\n",
    "from sklearn.metrics import f1_score\n",
    "from sklearn.model_selection import KFold\n",
    "import os\n",
    "import openpyxl\n",
    "from bs4 import BeautifulSoup\n",
    "import re"
   ]
  },
  {
   "cell_type": "code",
   "execution_count": 2,
   "metadata": {
    "collapsed": true
   },
   "outputs": [],
   "source": [
    "class Closed:\n",
    "    attrs = ['P', 'PART', 'ADV', 'CONJ', 'CONN', 'PRON', 'fragment', 'REL', 'PRV', 'POST', 'NEG', 'INDEF', 'Q', 'DEM', 'POSS', 'NUM']\n",
    "    def __init__(self):\n",
    "        self.adverb = {i.split()[0]: i.split()[1] for i in\n",
    "                           open('../closed_class/Closed_lists_adverbs.txt').read().split('\\n') if i != ''}\n",
    "        self.compliment = {i.split()[0]: i.split()[1] for i in\n",
    "                           open('../closed_class/Closed_lists_complementizers.txt').read().split('\\n') if i != ''}\n",
    "        self.conjunct = {i.split()[0]: i.split()[1] for i in\n",
    "                           open('../closed_class/Closed_lists_conjunctions.txt').read().split('\\n') if i != ''}\n",
    "        self.connector = {i.split()[0]: i.split()[1] for i in\n",
    "                           open('../closed_class/Closed_lists_connectors.txt').read().split('\\n') if i != ''}\n",
    "        self.preverb = {i.split()[0]: i.split()[1] for i in\n",
    "                           open('../closed_class/Closed_lists_preverbs.txt').read().split('\\n') if i != ''}\n",
    "        self.pronoun = {i.split()[0]: i.split()[1] for i in\n",
    "                           open('../closed_class/Closed_lists_pronouns.txt').read().split('\\n') if i != ''}\n",
    "        self.q_word = {i.split()[0]: i.split()[1] for i in\n",
    "                           open('../closed_class/Closed_lists_q-words.txt').read().split('\\n') if i != ''}\n",
    "        self.fragment = {i.split()[0]: i.split()[1] for i in\n",
    "                       open('../closed_class/Closed_lists_fragment.txt').read().split('\\n') if i != ''}"
   ]
  },
  {
   "cell_type": "code",
   "execution_count": 3,
   "metadata": {
    "collapsed": false
   },
   "outputs": [
    {
     "name": "stdout",
     "output_type": "stream",
     "text": [
      "processing Letters-NH-3_KUB-19-5-KBo-19-79.xlsx\n",
      "\n",
      "processing Letters-NH-4_KUB-14-3.xlsx\n",
      "\n",
      "train_matrix made\n",
      "\n"
     ]
    }
   ],
   "source": [
    "# делаем обучающий сет\n",
    "\n",
    "closed = Closed()\n",
    "# считываем класс закрытых классов\n",
    "speach_class = {i.split()[1]: i.split()[0] for i in open('../class.txt').read().split('\\n') if i != ''}\n",
    "# считываем части речи с их порядковым номером в словарь\n",
    "features = open('../features.txt').read().split()\n",
    "# считываем признаки\n",
    "\n",
    "train_word_list = []  # массив для обучающих слов\n",
    "train_features_set = []  # массив для обучающих признаков\n",
    "train_tag_list = []  # массив с правильными частями речи\n",
    "\n",
    "fname_list = os.listdir('../materials_xlsx/') # массив имён файлов с обучающими материалами в .xlsx\n",
    "\n",
    "for fname in fname_list: # для каждого файла\n",
    "\n",
    "    print('processing ' + fname + '\\n')\n",
    "    #os.system('libreoffice --convert-to xml --outdir ./materials_xml/ ../materials_xlsx/' + fname) # конвертируем в .xml\n",
    "    # результат положится в папку materials_xml в данной дериктории\n",
    "\n",
    "    soup = BeautifulSoup(open('./materials_xml/' + fname.replace('xlsx', 'xml')), 'xml') # читаем дерево\n",
    "\n",
    "    row_list = []\n",
    "    for l in soup.find_all('table', attrs={'table:name': 'Word Forms'}): # идём во второй лист \"Word Forms\"\n",
    "        for i, line in enumerate(l.find_all('table-row')):\n",
    "            row_list.append(re.split('\\n{1,3}', line.get_text().replace('\\xa0', '').strip('\\n'))) #считываем каждый ряд\n",
    "            # и получаем массив, где каждый элемент -- массив с содержимым каждой ячейки в этом ряду\n",
    "\n",
    "    row_list.pop(0) # удаляем первые два ряда,\n",
    "    row_list.pop(0) # потому что в них названия столбцов\n",
    "\n",
    "    for row in row_list:\n",
    "        if row[0] != '':\n",
    "            if len(row) > 8 and row[8].strip() in speach_class.keys():\n",
    "                example = []\n",
    "                train_word_list.append(row[5].strip('!: ')) # добавляем слово\n",
    "                for feat in features: # добавляем его признаки\n",
    "                    if row[5].strip('!: ').endswith(feat):\n",
    "                        example.append(1.0) # есть признак\n",
    "                    else:\n",
    "                        example.append(0.0) # нет признака\n",
    "                example.append(float(row[10])) # добавляем номер в предложении\n",
    "                train_tag_list.append(speach_class[row[8].strip()]) # порядковый номер правильной части речи\n",
    "                train_features_set.append(example) # получаем матрицу из примеров\n",
    "\n",
    "X = np.array(train_features_set)\n",
    "y = np.array(train_tag_list)\n",
    "\n",
    "print('train_matrix made' + '\\n')"
   ]
  },
  {
   "cell_type": "code",
   "execution_count": 30,
   "metadata": {
    "collapsed": true
   },
   "outputs": [],
   "source": [
    "def get_estimation(algorithm, X_train, X_test, y_train, y_test):\n",
    "    # считаем всякие оценки\n",
    "    algorithm.fit(X_train, y_train)\n",
    "    y_pred = algorithm.predict(X_test)\n",
    "    accuracy = accuracy_score(y_test, y_pred)\n",
    "    precision = precision_score(y_test, y_pred, average='weighted')\n",
    "    recall = recall_score(y_test, y_pred, average='weighted')\n",
    "    F1 = f1_score(y_test, y_pred, average='weighted')\n",
    "\n",
    "    return [accuracy, precision, recall, F1]"
   ]
  },
  {
   "cell_type": "code",
   "execution_count": 17,
   "metadata": {
    "collapsed": true
   },
   "outputs": [],
   "source": [
    "def knn_pred(n, X_train, X_test, y_train, y_test):\n",
    "    # k ближайших соседей\n",
    "    knn = KNeighborsClassifier(n_neighbors=n, metric='euclidean')\n",
    "    knn_estimation = get_estimation(knn, X_train, X_test, y_train, y_test)\n",
    "    return knn_estimation"
   ]
  },
  {
   "cell_type": "code",
   "execution_count": 38,
   "metadata": {
    "collapsed": true
   },
   "outputs": [],
   "source": [
    "def lr_pred(с, X_train, X_test, y_train, y_test):\n",
    "    # логистическая регрессия\n",
    "    lr = LogisticRegression(penalty=\"l2\", fit_intercept=True, max_iter=100, C=с, solver=\"lbfgs\")\n",
    "    lr_estimation = get_estimation(lr, X_train, X_test, y_train, y_test)\n",
    "    return lr_estimation"
   ]
  },
  {
   "cell_type": "code",
   "execution_count": 44,
   "metadata": {
    "collapsed": true
   },
   "outputs": [],
   "source": [
    "def svm_pred(c, X_train, X_test, y_train, y_test):\n",
    "    # метод опорных векторов\n",
    "    svm = SVC(C=c)\n",
    "    svm_estimation = get_estimation(svm, X_train, X_test, y_train, y_test)\n",
    "    return svm_estimation"
   ]
  },
  {
   "cell_type": "code",
   "execution_count": null,
   "metadata": {
    "collapsed": true
   },
   "outputs": [],
   "source": []
  },
  {
   "cell_type": "code",
   "execution_count": null,
   "metadata": {
    "collapsed": true
   },
   "outputs": [],
   "source": []
  },
  {
   "cell_type": "code",
   "execution_count": 21,
   "metadata": {
    "collapsed": true
   },
   "outputs": [],
   "source": [
    "def kfolds_validation(model, param, X, y):\n",
    "    # кросс-валидация\n",
    "    kf = KFold(n_splits=4, shuffle=True, random_state=12345)\n",
    "    estimations = []\n",
    "\n",
    "    for train, test in kf.split(X):\n",
    "        X_train, X_test, y_train, y_test = X[train], X[test], y[train], y[test]\n",
    "        estimations.append(model(param, X_train, X_test, y_train, y_test)[3])\n",
    "\n",
    "    estimation = np.array(estimations).mean() # средняя оценка по фолдам\n",
    "\n",
    "    return estimation"
   ]
  },
  {
   "cell_type": "code",
   "execution_count": 20,
   "metadata": {
    "collapsed": true
   },
   "outputs": [],
   "source": [
    "def get_params_dic(model, params, X, y):\n",
    "    # создаём словарь, где ключи -- параметр, а значения -- оценка при этом параметре\n",
    "    estimations = {}\n",
    "\n",
    "    for param in params:\n",
    "        estimations[param] = kfolds_validation(model, param, X, y)\n",
    "\n",
    "    return estimations"
   ]
  },
  {
   "cell_type": "code",
   "execution_count": 19,
   "metadata": {
    "collapsed": true
   },
   "outputs": [],
   "source": [
    "def create_plot(model, estimation):\n",
    "    # строим график зависимости параметра и оценки\n",
    "    plt.plot([key for key in estimation.keys()], [value for value in estimation.values()])\n",
    "    plt.title(model + ' F1-score')\n",
    "    plt.xlabel('Hyperparameters')\n",
    "    plt.ylabel('F1-score')\n",
    "    plt.tight_layout()\n",
    "    plt.savefig('./graphs/' + model + ' F1-score')\n",
    "    plt.close()\n",
    "    print(model + ' plot created\\n')"
   ]
  },
  {
   "cell_type": "code",
   "execution_count": 46,
   "metadata": {
    "collapsed": true
   },
   "outputs": [],
   "source": [
    "ns = np.arange(1, 150, 10)  # количество соседей\n",
    "cs_lr = np.logspace(-2, 10, 8, base=10)  # параметр регуляризации для логрега\n",
    "cs_svm = [0.01, 0.03, 0.1, 0.3, 1, 3, 10, 30, 60, 90] # параметр регуляризации для опорных векторов"
   ]
  },
  {
   "cell_type": "code",
   "execution_count": 31,
   "metadata": {
    "collapsed": false
   },
   "outputs": [
    {
     "name": "stderr",
     "output_type": "stream",
     "text": [
      "/home/sokureo/anaconda3/lib/python3.6/site-packages/sklearn/metrics/classification.py:1113: UndefinedMetricWarning: Precision is ill-defined and being set to 0.0 in labels with no predicted samples.\n",
      "  'precision', 'predicted', average, warn_for)\n",
      "/home/sokureo/anaconda3/lib/python3.6/site-packages/sklearn/metrics/classification.py:1113: UndefinedMetricWarning: F-score is ill-defined and being set to 0.0 in labels with no predicted samples.\n",
      "  'precision', 'predicted', average, warn_for)\n",
      "/home/sokureo/anaconda3/lib/python3.6/site-packages/sklearn/metrics/classification.py:1115: UndefinedMetricWarning: Recall is ill-defined and being set to 0.0 in labels with no true samples.\n",
      "  'recall', 'true', average, warn_for)\n",
      "/home/sokureo/anaconda3/lib/python3.6/site-packages/sklearn/metrics/classification.py:1115: UndefinedMetricWarning: F-score is ill-defined and being set to 0.0 in labels with no true samples.\n",
      "  'recall', 'true', average, warn_for)\n"
     ]
    },
    {
     "name": "stdout",
     "output_type": "stream",
     "text": [
      "knn accuracy: \n",
      " 1: 0.6478423879850923\n",
      "11: 0.6417157368231654\n",
      "21: 0.6112645330406992\n",
      "31: 0.5880382375474585\n",
      "41: 0.5611931414061432\n",
      "51: 0.563153641694421\n",
      "61: 0.5842704050113614\n",
      "71: 0.6045543373438369\n",
      "81: 0.588100201033911\n",
      "91: 0.5819309844064607\n",
      "101: 0.5836251284935134\n",
      "111: 0.589430333268643\n",
      "121: 0.5946708295945445\n",
      "131: 0.6044231171719052\n",
      "141: 0.6097420152625423 \n",
      "\n",
      "knn algorithm plot created\n",
      "\n"
     ]
    }
   ],
   "source": [
    "knn_estimation = get_params_dic(knn_pred, ns, X, y)\n",
    "print('knn F1-score: ' + '\\n', '\\n'.join(['{}: {}'.format(key, knn_estimation[key]) for key in knn_estimation]), '\\n')\n",
    "create_plot('knn algorithm', knn_estimation)"
   ]
  },
  {
   "cell_type": "code",
   "execution_count": 34,
   "metadata": {
    "collapsed": false
   },
   "outputs": [
    {
     "name": "stderr",
     "output_type": "stream",
     "text": [
      "/home/sokureo/anaconda3/lib/python3.6/site-packages/sklearn/metrics/classification.py:1113: UndefinedMetricWarning: Precision is ill-defined and being set to 0.0 in labels with no predicted samples.\n",
      "  'precision', 'predicted', average, warn_for)\n",
      "/home/sokureo/anaconda3/lib/python3.6/site-packages/sklearn/metrics/classification.py:1113: UndefinedMetricWarning: F-score is ill-defined and being set to 0.0 in labels with no predicted samples.\n",
      "  'precision', 'predicted', average, warn_for)\n",
      "/home/sokureo/anaconda3/lib/python3.6/site-packages/sklearn/metrics/classification.py:1115: UndefinedMetricWarning: Recall is ill-defined and being set to 0.0 in labels with no true samples.\n",
      "  'recall', 'true', average, warn_for)\n",
      "/home/sokureo/anaconda3/lib/python3.6/site-packages/sklearn/metrics/classification.py:1115: UndefinedMetricWarning: F-score is ill-defined and being set to 0.0 in labels with no true samples.\n",
      "  'recall', 'true', average, warn_for)\n"
     ]
    },
    {
     "name": "stdout",
     "output_type": "stream",
     "text": [
      "log reg F1-score: \n",
      " 0.01: 0.6135133160955508\n",
      "0.517947467923121: 0.6995614815149891\n",
      "26.826957952797247: 0.7124883138514506\n",
      "1389.4954943731361: 0.7083285695408699\n",
      "71968.56730011514: 0.7083285695408699\n",
      "3727593.720314938: 0.7089621363003767\n",
      "193069772.88832456: 0.706651939292811\n",
      "10000000000.0: 0.704143836713699 \n",
      "\n",
      "log regression algorithm plot created\n",
      "\n"
     ]
    }
   ],
   "source": [
    "lr_estimation = get_params_dic(lr_pred, cs_lr, X, y)\n",
    "print('log reg F1-score: ' + '\\n', '\\n'.join(['{}: {}'.format(key, lr_estimation[key]) for key in lr_estimation]), '\\n')\n",
    "create_plot('log regression algorithm', lr_estimation)"
   ]
  },
  {
   "cell_type": "code",
   "execution_count": 47,
   "metadata": {
    "collapsed": false
   },
   "outputs": [
    {
     "name": "stderr",
     "output_type": "stream",
     "text": [
      "/home/sokureo/anaconda3/lib/python3.6/site-packages/sklearn/metrics/classification.py:1113: UndefinedMetricWarning: Precision is ill-defined and being set to 0.0 in labels with no predicted samples.\n",
      "  'precision', 'predicted', average, warn_for)\n",
      "/home/sokureo/anaconda3/lib/python3.6/site-packages/sklearn/metrics/classification.py:1113: UndefinedMetricWarning: F-score is ill-defined and being set to 0.0 in labels with no predicted samples.\n",
      "  'precision', 'predicted', average, warn_for)\n"
     ]
    },
    {
     "name": "stdout",
     "output_type": "stream",
     "text": [
      "svm F1-score: \n",
      " 0.01: 0.26726750715874215\n",
      "0.03: 0.26726750715874215\n",
      "0.1: 0.5594647196724212\n",
      "0.3: 0.6005673230638545\n",
      "1: 0.6332864017809111\n",
      "3: 0.6708481675662958\n",
      "10: 0.6950401644317002\n",
      "30: 0.7101924809337417\n",
      "60: 0.7127655517963304\n",
      "90: 0.7136350618242563 \n",
      "\n",
      "svm algorithm plot created\n",
      "\n"
     ]
    }
   ],
   "source": [
    "svm_estimation = get_params_dic(svm_pred, cs_svm, X, y)\n",
    "print('svm F1-score: ' + '\\n', '\\n'.join(['{}: {}'.format(key, svm_estimation[key]) for key in svm_estimation]), '\\n')\n",
    "create_plot('svm algorithm', svm_estimation)"
   ]
  },
  {
   "cell_type": "code",
   "execution_count": null,
   "metadata": {
    "collapsed": true
   },
   "outputs": [],
   "source": []
  }
 ],
 "metadata": {
  "kernelspec": {
   "display_name": "Python 3",
   "language": "python",
   "name": "python3"
  },
  "language_info": {
   "codemirror_mode": {
    "name": "ipython",
    "version": 3
   },
   "file_extension": ".py",
   "mimetype": "text/x-python",
   "name": "python",
   "nbconvert_exporter": "python",
   "pygments_lexer": "ipython3",
   "version": "3.6.0"
  }
 },
 "nbformat": 4,
 "nbformat_minor": 2
}
