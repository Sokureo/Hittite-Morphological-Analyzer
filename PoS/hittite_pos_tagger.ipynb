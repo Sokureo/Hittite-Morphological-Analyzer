{
 "cells": [
  {
   "cell_type": "code",
   "execution_count": 1,
   "metadata": {
    "collapsed": false
   },
   "outputs": [],
   "source": [
    "import numpy as np\n",
    "import matplotlib.pyplot as plt\n",
    "from matplotlib import style\n",
    "style.use('ggplot')\n",
    "from sklearn.neighbors import KNeighborsClassifier\n",
    "from sklearn.linear_model import LogisticRegression\n",
    "from sklearn.svm import SVC\n",
    "from sklearn.tree import DecisionTreeClassifier\n",
    "from sklearn.ensemble import RandomForestClassifier\n",
    "from sklearn.linear_model import SGDClassifier\n",
    "from seqlearn.hmm import MultinomialHMM\n",
    "from sklearn.metrics import accuracy_score\n",
    "from sklearn.metrics import precision_score\n",
    "from sklearn.metrics import recall_score\n",
    "from sklearn.metrics import f1_score\n",
    "from sklearn.model_selection import KFold\n",
    "import os\n",
    "import openpyxl\n",
    "from bs4 import BeautifulSoup\n",
    "import re"
   ]
  },
  {
   "cell_type": "code",
   "execution_count": 2,
   "metadata": {
    "collapsed": true
   },
   "outputs": [],
   "source": [
    "class Closed:\n",
    "    attrs = ['P', 'PART', 'ADV', 'CONJ', 'CONN', 'PRON', 'fragment', 'REL', 'PRV', 'POST', 'NEG', 'INDEF', 'Q', 'DEM', 'POSS', 'NUM']\n",
    "    def __init__(self):\n",
    "        self.adverb = {i.split()[0]: i.split()[1] for i in\n",
    "                           open('../closed_class/Closed_lists_adverbs.txt').read().split('\\n') if i != ''}\n",
    "        self.compliment = {i.split()[0]: i.split()[1] for i in\n",
    "                           open('../closed_class/Closed_lists_complementizers.txt').read().split('\\n') if i != ''}\n",
    "        self.conjunct = {i.split()[0]: i.split()[1] for i in\n",
    "                           open('../closed_class/Closed_lists_conjunctions.txt').read().split('\\n') if i != ''}\n",
    "        self.connector = {i.split()[0]: i.split()[1] for i in\n",
    "                           open('../closed_class/Closed_lists_connectors.txt').read().split('\\n') if i != ''}\n",
    "        self.preverb = {i.split()[0]: i.split()[1] for i in\n",
    "                           open('../closed_class/Closed_lists_preverbs.txt').read().split('\\n') if i != ''}\n",
    "        self.pronoun = {i.split()[0]: i.split()[1] for i in\n",
    "                           open('../closed_class/Closed_lists_pronouns.txt').read().split('\\n') if i != ''}\n",
    "        self.q_word = {i.split()[0]: i.split()[1] for i in\n",
    "                           open('../closed_class/Closed_lists_q-words.txt').read().split('\\n') if i != ''}\n",
    "        self.fragment = {i.split()[0]: i.split()[1] for i in\n",
    "                       open('../closed_class/Closed_lists_fragment.txt').read().split('\\n') if i != ''}"
   ]
  },
  {
   "cell_type": "code",
   "execution_count": 3,
   "metadata": {
    "collapsed": false
   },
   "outputs": [
    {
     "name": "stdout",
     "output_type": "stream",
     "text": [
      "processing Letters-NH-3_KUB-19-5-KBo-19-79.xlsx\n",
      "\n",
      "processing Letters-NH-4_KUB-14-3.xlsx\n",
      "\n",
      "train_matrix made\n",
      "\n"
     ]
    }
   ],
   "source": [
    "# делаем обучающий сет\n",
    "\n",
    "closed = Closed()\n",
    "# считываем класс закрытых классов\n",
    "speach_class = {i.split()[1]: i.split()[0] for i in open('../class.txt').read().split('\\n') if i != ''}\n",
    "# считываем части речи с их порядковым номером в словарь\n",
    "features = open('../features.txt').read().split()\n",
    "# считываем признаки\n",
    "\n",
    "train_word_list = []  # массив для обучающих слов\n",
    "train_features_set = []  # массив для обучающих признаков\n",
    "train_tag_list = []  # массив с правильными частями речи\n",
    "\n",
    "fname_list = os.listdir('../materials_xlsx/') # массив имён файлов с обучающими материалами в .xlsx\n",
    "\n",
    "for fname in fname_list: # для каждого файла\n",
    "\n",
    "    print('processing ' + fname + '\\n')\n",
    "    #os.system('libreoffice --convert-to xml --outdir ./materials_xml/ ../materials_xlsx/' + fname) # конвертируем в .xml\n",
    "    # результат положится в папку materials_xml в данной дериктории\n",
    "\n",
    "    soup = BeautifulSoup(open('./materials_xml/' + fname.replace('xlsx', 'xml')), 'xml') # читаем дерево\n",
    "\n",
    "    row_list = []\n",
    "    for l in soup.find_all('table', attrs={'table:name': 'Word Forms'}): # идём во второй лист \"Word Forms\"\n",
    "        for i, line in enumerate(l.find_all('table-row')):\n",
    "            row_list.append(re.split('\\n{1,3}', line.get_text().replace('\\xa0', '').strip('\\n'))) #считываем каждый ряд\n",
    "            # и получаем массив, где каждый элемент -- массив с содержимым каждой ячейки в этом ряду\n",
    "\n",
    "    row_list.pop(0) # удаляем первые два ряда,\n",
    "    row_list.pop(0) # потому что в них названия столбцов\n",
    "\n",
    "    for row in row_list:\n",
    "        if row[0] != '':\n",
    "            if len(row) > 8 and row[8].strip() in speach_class.keys():\n",
    "                example = []\n",
    "                train_word_list.append(row[5].strip('!: ')) # добавляем слово\n",
    "                for feat in features: # добавляем его признаки\n",
    "                    if row[5].strip('!: ').endswith(feat):\n",
    "                        example.append(1.0) # есть признак\n",
    "                    else:\n",
    "                        example.append(0.0) # нет признака\n",
    "                example.append(float(row[10])) # добавляем номер в предложении\n",
    "                train_tag_list.append(speach_class[row[8].strip()]) # порядковый номер правильной части речи\n",
    "                train_features_set.append(example) # получаем матрицу из примеров\n",
    "\n",
    "X = np.array(train_features_set)\n",
    "y = np.array(train_tag_list)\n",
    "\n",
    "print('train_matrix made' + '\\n')"
   ]
  },
  {
   "cell_type": "code",
   "execution_count": 4,
   "metadata": {
    "collapsed": true
   },
   "outputs": [],
   "source": [
    "def get_estimation(algorithm, X_train, X_test, y_train, y_test):\n",
    "    # считаем всякие оценки\n",
    "    algorithm.fit(X_train, y_train)\n",
    "    y_pred = algorithm.predict(X_test)\n",
    "    accuracy = accuracy_score(y_test, y_pred)\n",
    "    precision = precision_score(y_test, y_pred, average='weighted')\n",
    "    recall = recall_score(y_test, y_pred, average='weighted')\n",
    "    F1 = f1_score(y_test, y_pred, average='weighted')\n",
    "\n",
    "    return [accuracy, precision, recall, F1]"
   ]
  },
  {
   "cell_type": "code",
   "execution_count": 5,
   "metadata": {
    "collapsed": true
   },
   "outputs": [],
   "source": [
    "def knn_pred(X_train, X_test, y_train, y_test):\n",
    "    # k ближайших соседей\n",
    "    knn = KNeighborsClassifier(n_neighbors=11, metric='euclidean')\n",
    "    knn_estimation = get_estimation(knn, X_train, X_test, y_train, y_test)\n",
    "    return knn_estimation"
   ]
  },
  {
   "cell_type": "code",
   "execution_count": 6,
   "metadata": {
    "collapsed": true
   },
   "outputs": [],
   "source": [
    "def lr_pred(X_train, X_test, y_train, y_test):\n",
    "    # логистическая регрессия\n",
    "    lr = LogisticRegression(penalty=\"l2\", fit_intercept=True, max_iter=100, C=27, solver=\"lbfgs\")\n",
    "    lr_estimation = get_estimation(lr, X_train, X_test, y_train, y_test)\n",
    "    return lr_estimation"
   ]
  },
  {
   "cell_type": "code",
   "execution_count": 7,
   "metadata": {
    "collapsed": true
   },
   "outputs": [],
   "source": [
    "def svm_pred(X_train, X_test, y_train, y_test):\n",
    "    # метод опорных векторов\n",
    "    svm = SVC(C=500)\n",
    "    svm_estimation = get_estimation(svm, X_train, X_test, y_train, y_test)\n",
    "    return svm_estimation"
   ]
  },
  {
   "cell_type": "code",
   "execution_count": 8,
   "metadata": {
    "collapsed": true
   },
   "outputs": [],
   "source": [
    "def dtree_pred(X_train, X_test, y_train, y_test):\n",
    "    # решающие деревья\n",
    "    dtree = DecisionTreeClassifier(max_depth=21)\n",
    "    dtree_estimation = get_estimation(dtree, X_train, X_test, y_train, y_test)\n",
    "    return dtree_estimation"
   ]
  },
  {
   "cell_type": "code",
   "execution_count": 9,
   "metadata": {
    "collapsed": true
   },
   "outputs": [],
   "source": [
    "def rforest_pred(X_train, X_test, y_train, y_test):\n",
    "    # случайный лес\n",
    "    rforest = RandomForestClassifier(n_estimators=31)\n",
    "    rforest_estimation = get_estimation(rforest, X_train, X_test, y_train, y_test)\n",
    "    return rforest_estimation"
   ]
  },
  {
   "cell_type": "code",
   "execution_count": 10,
   "metadata": {
    "collapsed": true
   },
   "outputs": [],
   "source": [
    "def sgd_pred(X_train, X_test, y_train, y_test):\n",
    "    # метод стохастического градиента\n",
    "    sgd = SGDClassifier(alpha=0.005)\n",
    "    sgd_estimation = get_estimation(sgd, X_train, X_test, y_train, y_test)\n",
    "    return sgd_estimation"
   ]
  },
  {
   "cell_type": "code",
   "execution_count": 11,
   "metadata": {
    "collapsed": true
   },
   "outputs": [],
   "source": [
    "def hmm_pred(X_train, X_test, y_train, y_test):\n",
    "    # скрытая марковская модель\n",
    "    hmm = MultinomialHMM(alpha=0.1)\n",
    "    hmm.fit(X_train, y_train, lengths=np.array([1 for i in y_train]))\n",
    "    y_pred = hmm.predict(X_test)\n",
    "    accuracy = accuracy_score(y_test, y_pred)\n",
    "    precision = precision_score(y_test, y_pred, average='weighted')\n",
    "    recall = recall_score(y_test, y_pred, average='weighted')\n",
    "    F1 = f1_score(y_test, y_pred, average='weighted')\n",
    "    return [accuracy, precision, recall, F1]"
   ]
  },
  {
   "cell_type": "code",
   "execution_count": 12,
   "metadata": {
    "collapsed": true
   },
   "outputs": [],
   "source": [
    "def kfolds_validation(model, X, y):\n",
    "    # кросс-валидация\n",
    "    kf = KFold(n_splits=4, shuffle=True, random_state=12345)\n",
    "    estimations = []\n",
    "\n",
    "    for train, test in kf.split(X):\n",
    "        X_train, X_test, y_train, y_test = X[train], X[test], y[train], y[test]\n",
    "        estimations.append(model(X_train, X_test, y_train, y_test))\n",
    "\n",
    "    accuracy_mean = np.array([i[0] for i in estimations]).mean() # средняя оценка по фолдам\n",
    "    precision_mean = np.array([i[1] for i in estimations]).mean()\n",
    "    recall_mean = np.array([i[2] for i in estimations]).mean()\n",
    "    F1_mean = np.array([i[3] for i in estimations]).mean()\n",
    "    \n",
    "    return [accuracy_mean, precision_mean, recall_mean, F1_mean]"
   ]
  },
  {
   "cell_type": "code",
   "execution_count": 13,
   "metadata": {
    "collapsed": false
   },
   "outputs": [],
   "source": [
    "def create_plot(estimation, estimation_dic, color):\n",
    "    # строим график зависимости параметра и оценки\n",
    "    plt.plot(list(range(0, len(estimation_dic.keys())*10, 10)), [value for value in estimation_dic.values()], color, label=estimation)\n",
    "    plt.title('Dependence of Estimations on Model')\n",
    "    plt.xlabel('Model')\n",
    "    plt.ylabel('Estimations')\n",
    "    plt.tight_layout()"
   ]
  },
  {
   "cell_type": "code",
   "execution_count": 14,
   "metadata": {
    "collapsed": false
   },
   "outputs": [
    {
     "name": "stderr",
     "output_type": "stream",
     "text": [
      "/home/sokureo/anaconda3/lib/python3.6/site-packages/sklearn/metrics/classification.py:1113: UndefinedMetricWarning: Precision is ill-defined and being set to 0.0 in labels with no predicted samples.\n",
      "  'precision', 'predicted', average, warn_for)\n",
      "/home/sokureo/anaconda3/lib/python3.6/site-packages/sklearn/metrics/classification.py:1113: UndefinedMetricWarning: F-score is ill-defined and being set to 0.0 in labels with no predicted samples.\n",
      "  'precision', 'predicted', average, warn_for)\n"
     ]
    },
    {
     "name": "stdout",
     "output_type": "stream",
     "text": [
      "got knn estimations\n"
     ]
    },
    {
     "name": "stderr",
     "output_type": "stream",
     "text": [
      "/home/sokureo/anaconda3/lib/python3.6/site-packages/sklearn/metrics/classification.py:1115: UndefinedMetricWarning: Recall is ill-defined and being set to 0.0 in labels with no true samples.\n",
      "  'recall', 'true', average, warn_for)\n",
      "/home/sokureo/anaconda3/lib/python3.6/site-packages/sklearn/metrics/classification.py:1115: UndefinedMetricWarning: F-score is ill-defined and being set to 0.0 in labels with no true samples.\n",
      "  'recall', 'true', average, warn_for)\n"
     ]
    },
    {
     "name": "stdout",
     "output_type": "stream",
     "text": [
      "got logreg estimations\n",
      "got svm estimations\n",
      "got decision tree estimations\n"
     ]
    },
    {
     "name": "stderr",
     "output_type": "stream",
     "text": [
      "/home/sokureo/anaconda3/lib/python3.6/site-packages/sklearn/metrics/classification.py:1113: UndefinedMetricWarning: Precision is ill-defined and being set to 0.0 in labels with no predicted samples.\n",
      "  'precision', 'predicted', average, warn_for)\n",
      "/home/sokureo/anaconda3/lib/python3.6/site-packages/sklearn/metrics/classification.py:1113: UndefinedMetricWarning: F-score is ill-defined and being set to 0.0 in labels with no predicted samples.\n",
      "  'precision', 'predicted', average, warn_for)\n",
      "/home/sokureo/anaconda3/lib/python3.6/site-packages/sklearn/metrics/classification.py:1113: UndefinedMetricWarning: Precision is ill-defined and being set to 0.0 in labels with no predicted samples.\n",
      "  'precision', 'predicted', average, warn_for)\n",
      "/home/sokureo/anaconda3/lib/python3.6/site-packages/sklearn/metrics/classification.py:1113: UndefinedMetricWarning: F-score is ill-defined and being set to 0.0 in labels with no predicted samples.\n",
      "  'precision', 'predicted', average, warn_for)\n"
     ]
    },
    {
     "name": "stdout",
     "output_type": "stream",
     "text": [
      "got random forest estimations\n",
      "got sgd estimations\n",
      "got hmm estimations\n"
     ]
    },
    {
     "name": "stderr",
     "output_type": "stream",
     "text": [
      "/home/sokureo/anaconda3/lib/python3.6/site-packages/sklearn/metrics/classification.py:1115: UndefinedMetricWarning: Recall is ill-defined and being set to 0.0 in labels with no true samples.\n",
      "  'recall', 'true', average, warn_for)\n",
      "/home/sokureo/anaconda3/lib/python3.6/site-packages/sklearn/metrics/classification.py:1115: UndefinedMetricWarning: F-score is ill-defined and being set to 0.0 in labels with no true samples.\n",
      "  'recall', 'true', average, warn_for)\n",
      "/home/sokureo/anaconda3/lib/python3.6/site-packages/sklearn/metrics/classification.py:1113: UndefinedMetricWarning: Precision is ill-defined and being set to 0.0 in labels with no predicted samples.\n",
      "  'precision', 'predicted', average, warn_for)\n",
      "/home/sokureo/anaconda3/lib/python3.6/site-packages/sklearn/metrics/classification.py:1113: UndefinedMetricWarning: F-score is ill-defined and being set to 0.0 in labels with no predicted samples.\n",
      "  'precision', 'predicted', average, warn_for)\n"
     ]
    }
   ],
   "source": [
    "knn_estimation = kfolds_validation(knn_pred, X, y)\n",
    "print(\"got knn estimations\")\n",
    "lr_estimation = kfolds_validation(lr_pred, X, y)\n",
    "print(\"got logreg estimations\")\n",
    "svm_estimation = kfolds_validation(svm_pred, X, y)\n",
    "print(\"got svm estimations\")\n",
    "dtree_estimation = kfolds_validation(dtree_pred, X, y)\n",
    "print(\"got decision tree estimations\")\n",
    "rforest_estimation = kfolds_validation(rforest_pred, X, y)\n",
    "print(\"got random forest estimations\")\n",
    "sgd_estimation = kfolds_validation(sgd_pred, X, y)\n",
    "print(\"got sgd estimations\")\n",
    "hmm_estimation = kfolds_validation(hmm_pred, X, y)\n",
    "print(\"got hmm estimations\")"
   ]
  },
  {
   "cell_type": "code",
   "execution_count": 15,
   "metadata": {
    "collapsed": true
   },
   "outputs": [],
   "source": [
    "accuracy_dic = {'knn': knn_estimation[0], 'logreg': lr_estimation[0], 'svm': svm_estimation[0], 'dtree': dtree_estimation[0], 'rforest': rforest_estimation[0], 'sgd': sgd_estimation[0], 'hmm': hmm_estimation[0]}\n",
    "precision_dic = {'knn': knn_estimation[1], 'logreg': lr_estimation[1], 'svm': svm_estimation[1], 'dtree': dtree_estimation[1], 'rforest': rforest_estimation[1], 'sgd': sgd_estimation[1], 'hmm': hmm_estimation[1]}\n",
    "recall_dic = {'knn': knn_estimation[2], 'logreg': lr_estimation[2], 'svm': svm_estimation[2], 'dtree': dtree_estimation[2], 'rforest': rforest_estimation[2], 'sgd': sgd_estimation[2], 'hmm': hmm_estimation[2]}\n",
    "F1_dic = {'knn': knn_estimation[3], 'logreg': lr_estimation[3], 'svm': svm_estimation[3], 'dtree': dtree_estimation[3], 'rforest': rforest_estimation[3], 'sgd': sgd_estimation[3], 'hmm': hmm_estimation[3]}"
   ]
  },
  {
   "cell_type": "code",
   "execution_count": 16,
   "metadata": {
    "collapsed": false
   },
   "outputs": [],
   "source": [
    "#create_plot('accuracy', accuracy_dic, 'g')\n",
    "create_plot('precision', precision_dic, 'c')\n",
    "create_plot('recall', recall_dic, 'r')\n",
    "create_plot('F1-score', F1_dic, 'b')"
   ]
  },
  {
   "cell_type": "code",
   "execution_count": 17,
   "metadata": {
    "collapsed": false
   },
   "outputs": [
    {
     "name": "stdout",
     "output_type": "stream",
     "text": [
      "Estimation plot created\n"
     ]
    }
   ],
   "source": [
    "plt.xticks(list(range(0, len(accuracy_dic.keys())*10, 10)), ('knn', 'logreg', 'svm', 'dtree', 'rforest', 'sgd', 'hmm') )\n",
    "plt.legend()\n",
    "plt.savefig('./graphs/Dependency of estimation on model.png')\n",
    "print('Estimation plot created')"
   ]
  },
  {
   "cell_type": "code",
   "execution_count": 18,
   "metadata": {
    "collapsed": false
   },
   "outputs": [
    {
     "name": "stdout",
     "output_type": "stream",
     "text": [
      "README.md edit\n"
     ]
    }
   ],
   "source": [
    "fw = open('README.md', 'a') # добавляем наглядную табличку в ридми\n",
    "fw.write('| KNeighbors Classifier | ' + str(accuracy_dic['knn']) + ' | ' + str(precision_dic['knn']) + ' | ' + str(recall_dic['knn']) + ' | ' + str(F1_dic['knn']) + ' |\\n')\n",
    "fw.write('| Logistic Regression | ' + str(accuracy_dic['logreg']) + ' | ' + str(precision_dic['logreg']) + ' | ' + str(recall_dic['logreg']) + ' | ' + str(F1_dic['logreg']) + ' |\\n')\n",
    "fw.write('| Support Vector Machine | ' + str(accuracy_dic['svm']) + ' | ' + str(precision_dic['svm']) + ' | ' + str(recall_dic['svm']) + ' | ' + str(F1_dic['svm']) + ' |\\n')\n",
    "fw.write('| Decision Tree | ' + str(accuracy_dic['dtree']) + ' | ' + str(precision_dic['dtree']) + ' | ' + str(recall_dic['dtree']) + ' | ' + str(F1_dic['dtree']) + ' |\\n')\n",
    "fw.write('| Random Forest | ' + str(accuracy_dic['rforest']) + ' | ' + str(precision_dic['rforest']) + ' | ' + str(recall_dic['rforest']) + ' | ' + str(F1_dic['rforest']) + ' |\\n')\n",
    "fw.write('| Stochastic Gradient Descent | ' + str(accuracy_dic['sgd']) + ' | ' + str(precision_dic['sgd']) + ' | ' + str(recall_dic['sgd']) + ' | ' + str(F1_dic['sgd']) + ' |\\n')\n",
    "fw.write('| Hidden Markov Model | ' + str(accuracy_dic['hmm']) + ' | ' + str(precision_dic['hmm']) + ' | ' + str(recall_dic['hmm']) + ' | ' + str(F1_dic['hmm']) + ' |\\n')\n",
    "fw.close()\n",
    "print('README.md edit')"
   ]
  }
 ],
 "metadata": {
  "kernelspec": {
   "display_name": "Python 3",
   "language": "python",
   "name": "python3"
  },
  "language_info": {
   "codemirror_mode": {
    "name": "ipython",
    "version": 3
   },
   "file_extension": ".py",
   "mimetype": "text/x-python",
   "name": "python",
   "nbconvert_exporter": "python",
   "pygments_lexer": "ipython3",
   "version": "3.6.0"
  }
 },
 "nbformat": 4,
 "nbformat_minor": 2
}
